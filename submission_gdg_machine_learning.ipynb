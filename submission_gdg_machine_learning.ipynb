{
  "cells": [
    {
      "cell_type": "code",
      "execution_count": 182,
      "metadata": {
        "id": "39d18z8RaIQ_"
      },
      "outputs": [],
      "source": [
        "import pandas as pd\n",
        "import numpy as np\n",
        "import seaborn as sns\n",
        "import matplotlib.pyplot as plt\n",
        "from sklearn.model_selection import train_test_split, GridSearchCV\n",
        "from sklearn.preprocessing import StandardScaler, LabelEncoder\n",
        "from sklearn.impute import SimpleImputer\n",
        "from sklearn.ensemble import RandomForestRegressor\n",
        "from sklearn.metrics import mean_squared_error, r2_score"
      ]
    },
    {
      "cell_type": "code",
      "execution_count": 183,
      "metadata": {
        "colab": {
          "base_uri": "https://localhost:8080/",
          "height": 327
        },
        "id": "mx45mHYdhOh3",
        "outputId": "1666a67b-1cc1-4b7d-f6eb-dcc4fc26c37d"
      },
      "outputs": [
        {
          "data": {
            "text/html": [
              "<div>\n",
              "<style scoped>\n",
              "    .dataframe tbody tr th:only-of-type {\n",
              "        vertical-align: middle;\n",
              "    }\n",
              "\n",
              "    .dataframe tbody tr th {\n",
              "        vertical-align: top;\n",
              "    }\n",
              "\n",
              "    .dataframe thead th {\n",
              "        text-align: right;\n",
              "    }\n",
              "</style>\n",
              "<table border=\"1\" class=\"dataframe\">\n",
              "  <thead>\n",
              "    <tr style=\"text-align: right;\">\n",
              "      <th></th>\n",
              "      <th>work_year</th>\n",
              "      <th>experience_level</th>\n",
              "      <th>employment_type</th>\n",
              "      <th>job_title</th>\n",
              "      <th>salary</th>\n",
              "      <th>salary_currency</th>\n",
              "      <th>salary_in_usd</th>\n",
              "      <th>employee_residence</th>\n",
              "      <th>remote_ratio</th>\n",
              "      <th>company_location</th>\n",
              "      <th>company_size</th>\n",
              "    </tr>\n",
              "  </thead>\n",
              "  <tbody>\n",
              "    <tr>\n",
              "      <th>0</th>\n",
              "      <td>2021</td>\n",
              "      <td>MI</td>\n",
              "      <td>FT</td>\n",
              "      <td>Data Scientist</td>\n",
              "      <td>30400000</td>\n",
              "      <td>CLP</td>\n",
              "      <td>40038</td>\n",
              "      <td>CL</td>\n",
              "      <td>100</td>\n",
              "      <td>CL</td>\n",
              "      <td>L</td>\n",
              "    </tr>\n",
              "    <tr>\n",
              "      <th>1</th>\n",
              "      <td>2021</td>\n",
              "      <td>MI</td>\n",
              "      <td>FT</td>\n",
              "      <td>BI Data Analyst</td>\n",
              "      <td>11000000</td>\n",
              "      <td>HUF</td>\n",
              "      <td>36259</td>\n",
              "      <td>HU</td>\n",
              "      <td>50</td>\n",
              "      <td>US</td>\n",
              "      <td>L</td>\n",
              "    </tr>\n",
              "    <tr>\n",
              "      <th>2</th>\n",
              "      <td>2020</td>\n",
              "      <td>MI</td>\n",
              "      <td>FT</td>\n",
              "      <td>Data Scientist</td>\n",
              "      <td>11000000</td>\n",
              "      <td>HUF</td>\n",
              "      <td>35735</td>\n",
              "      <td>HU</td>\n",
              "      <td>50</td>\n",
              "      <td>HU</td>\n",
              "      <td>L</td>\n",
              "    </tr>\n",
              "    <tr>\n",
              "      <th>3</th>\n",
              "      <td>2021</td>\n",
              "      <td>MI</td>\n",
              "      <td>FT</td>\n",
              "      <td>ML Engineer</td>\n",
              "      <td>8500000</td>\n",
              "      <td>JPY</td>\n",
              "      <td>77364</td>\n",
              "      <td>JP</td>\n",
              "      <td>50</td>\n",
              "      <td>JP</td>\n",
              "      <td>S</td>\n",
              "    </tr>\n",
              "    <tr>\n",
              "      <th>4</th>\n",
              "      <td>2022</td>\n",
              "      <td>SE</td>\n",
              "      <td>FT</td>\n",
              "      <td>Lead Machine Learning Engineer</td>\n",
              "      <td>7500000</td>\n",
              "      <td>INR</td>\n",
              "      <td>95386</td>\n",
              "      <td>IN</td>\n",
              "      <td>50</td>\n",
              "      <td>IN</td>\n",
              "      <td>L</td>\n",
              "    </tr>\n",
              "  </tbody>\n",
              "</table>\n",
              "</div>"
            ],
            "text/plain": [
              "   work_year experience_level employment_type                       job_title  \\\n",
              "0       2021               MI              FT                  Data Scientist   \n",
              "1       2021               MI              FT                 BI Data Analyst   \n",
              "2       2020               MI              FT                  Data Scientist   \n",
              "3       2021               MI              FT                     ML Engineer   \n",
              "4       2022               SE              FT  Lead Machine Learning Engineer   \n",
              "\n",
              "     salary salary_currency  salary_in_usd employee_residence  remote_ratio  \\\n",
              "0  30400000             CLP          40038                 CL           100   \n",
              "1  11000000             HUF          36259                 HU            50   \n",
              "2  11000000             HUF          35735                 HU            50   \n",
              "3   8500000             JPY          77364                 JP            50   \n",
              "4   7500000             INR          95386                 IN            50   \n",
              "\n",
              "  company_location company_size  \n",
              "0               CL            L  \n",
              "1               US            L  \n",
              "2               HU            L  \n",
              "3               JP            S  \n",
              "4               IN            L  "
            ]
          },
          "execution_count": 183,
          "metadata": {},
          "output_type": "execute_result"
        }
      ],
      "source": [
        "file_path = 'DataScience_salaries_2024.csv'\n",
        "df = pd.read_csv(file_path)\n",
        "\n",
        "df.head()"
      ]
    },
    {
      "cell_type": "code",
      "execution_count": 184,
      "metadata": {
        "colab": {
          "base_uri": "https://localhost:8080/"
        },
        "id": "HC6AS4qThbHm",
        "outputId": "f4f4f5be-f56c-4084-f6cd-3e0bd2c2a1bd"
      },
      "outputs": [
        {
          "data": {
            "text/plain": [
              "(work_year             0\n",
              " experience_level      0\n",
              " employment_type       0\n",
              " job_title             0\n",
              " salary                0\n",
              " salary_currency       0\n",
              " salary_in_usd         0\n",
              " employee_residence    0\n",
              " remote_ratio          0\n",
              " company_location      0\n",
              " company_size          0\n",
              " dtype: int64,\n",
              " work_year              int64\n",
              " experience_level      object\n",
              " employment_type       object\n",
              " job_title             object\n",
              " salary                 int64\n",
              " salary_currency       object\n",
              " salary_in_usd          int64\n",
              " employee_residence    object\n",
              " remote_ratio           int64\n",
              " company_location      object\n",
              " company_size          object\n",
              " dtype: object)"
            ]
          },
          "execution_count": 184,
          "metadata": {},
          "output_type": "execute_result"
        }
      ],
      "source": [
        "# Check for missing values and data types\n",
        "missing_values = df.isnull().sum()\n",
        "data_types = df.dtypes\n",
        "\n",
        "missing_values, data_types"
      ]
    },
    {
      "cell_type": "code",
      "execution_count": 185,
      "metadata": {
        "colab": {
          "base_uri": "https://localhost:8080/"
        },
        "id": "o7TCCqRZyaKM",
        "outputId": "cfbea0f9-6ac7-4f67-ccb2-26381ce8f31c"
      },
      "outputs": [
        {
          "data": {
            "text/plain": [
              "(          work_year        salary  salary_in_usd  remote_ratio\n",
              " count  14838.000000  1.483800e+04   14838.000000  14838.000000\n",
              " mean    2023.138900  1.650227e+05  149874.718763     32.760480\n",
              " std        0.700799  3.562354e+05   69009.181349     46.488278\n",
              " min     2020.000000  1.400000e+04   15000.000000      0.000000\n",
              " 25%     2023.000000  1.021000e+05  102000.000000      0.000000\n",
              " 50%     2023.000000  1.422000e+05  141300.000000      0.000000\n",
              " 75%     2024.000000  1.875000e+05  185900.000000    100.000000\n",
              " max     2024.000000  3.040000e+07  800000.000000    100.000000,\n",
              "        experience_level employment_type      job_title salary_currency  \\\n",
              " count             14838           14838          14838           14838   \n",
              " unique                4               4            153              23   \n",
              " top                  SE              FT  Data Engineer             USD   \n",
              " freq               9696           14772           3162           13682   \n",
              " \n",
              "        employee_residence company_location company_size  \n",
              " count               14838            14838        14838  \n",
              " unique                 88               77            3  \n",
              " top                    US               US            M  \n",
              " freq                12926            12975        13674  )"
            ]
          },
          "execution_count": 185,
          "metadata": {},
          "output_type": "execute_result"
        }
      ],
      "source": [
        "# Descriptive Statistics for numerical columns\n",
        "numerical_stats = df.describe()\n",
        "\n",
        "# Frequency distribution for categorical columns\n",
        "categorical_stats = df.describe(include=['object'])\n",
        "\n",
        "numerical_stats, categorical_stats"
      ]
    },
    {
      "cell_type": "code",
      "execution_count": 186,
      "metadata": {
        "colab": {
          "base_uri": "https://localhost:8080/",
          "height": 671
        },
        "id": "ZSMBNOjeTc1w",
        "outputId": "ffad873d-db9e-40c3-b525-586acd9ec7ff"
      },
      "outputs": [
        {
          "name": "stdout",
          "output_type": "stream",
          "text": [
            "experience_level\n",
            "SE    9696\n",
            "MI    3553\n",
            "EN    1148\n",
            "EX     441\n",
            "Name: count, dtype: int64\n"
          ]
        },
        {
          "name": "stderr",
          "output_type": "stream",
          "text": [
            "C:\\Users\\ACER\\AppData\\Local\\Temp\\ipykernel_22424\\1872863673.py:5: FutureWarning: \n",
            "\n",
            "Passing `palette` without assigning `hue` is deprecated and will be removed in v0.14.0. Assign the `x` variable to `hue` and set `legend=False` for the same effect.\n",
            "\n",
            "  sns.countplot(x='experience_level', data=df, palette='Set2')\n"
          ]
        },
        {
          "data": {
            "image/png": "[encoded data removed]",
            "text/plain": [
              "<Figure size 640x480 with 1 Axes>"
            ]
          },
          "metadata": {},
          "output_type": "display_data"
        }
      ],
      "source": [
        "# Distribusi experience_level\n",
        "print(df['experience_level'].value_counts())\n",
        "\n",
        "# Visualisasi\n",
        "sns.countplot(x='experience_level', data=df, palette='Set2')\n",
        "plt.title('Distribusi Experience Level')\n",
        "plt.show()"
      ]
    },
    {
      "cell_type": "code",
      "execution_count": 187,
      "metadata": {
        "colab": {
          "base_uri": "https://localhost:8080/",
          "height": 635
        },
        "id": "MDMUyOkmTdhc",
        "outputId": "5db5c2ce-e0c2-4b5c-afcc-a601bf01d12b"
      },
      "outputs": [
        {
          "name": "stdout",
          "output_type": "stream",
          "text": [
            "count     14838.000000\n",
            "mean     149874.718763\n",
            "std       69009.181349\n",
            "min       15000.000000\n",
            "25%      102000.000000\n",
            "50%      141300.000000\n",
            "75%      185900.000000\n",
            "max      800000.000000\n",
            "Name: salary_in_usd, dtype: float64\n"
          ]
        },
        {
          "data": {
            "image/png": "[encoded data removed]",
            "text/plain": [
              "<Figure size 640x480 with 1 Axes>"
            ]
          },
          "metadata": {},
          "output_type": "display_data"
        }
      ],
      "source": [
        "# Statistik deskriptif\n",
        "print(df['salary_in_usd'].describe())\n",
        "\n",
        "# Histogram\n",
        "sns.histplot(df['salary_in_usd'], bins=20, kde=True, color='blue')\n",
        "plt.title('Distribusi Salary (USD)')\n",
        "plt.show()"
      ]
    },
    {
      "cell_type": "code",
      "execution_count": 188,
      "metadata": {
        "colab": {
          "base_uri": "https://localhost:8080/",
          "height": 452
        },
        "id": "M-r8FWd6ThXZ",
        "outputId": "2cac4934-3c08-4fd1-dec2-6515a8c08cda"
      },
      "outputs": [
        {
          "data": {
            "image/png": "[encoded data removed]",
            "text/plain": [
              "<Figure size 640x480 with 2 Axes>"
            ]
          },
          "metadata": {},
          "output_type": "display_data"
        }
      ],
      "source": [
        "# Korelasi numerik\n",
        "numeric_cols = df.select_dtypes(include=[np.number])\n",
        "correlation_matrix = numeric_cols.corr()\n",
        "\n",
        "# Heatmap\n",
        "sns.heatmap(correlation_matrix, annot=True, cmap='coolwarm')\n",
        "plt.title('Heatmap Korelasi')\n",
        "plt.show()"
      ]
    },
    {
      "cell_type": "code",
      "execution_count": 189,
      "metadata": {
        "colab": {
          "base_uri": "https://localhost:8080/",
          "height": 563
        },
        "id": "urVpQZlmTqK-",
        "outputId": "06579d26-b889-4ebc-d607-6e5b73192bae"
      },
      "outputs": [
        {
          "name": "stderr",
          "output_type": "stream",
          "text": [
            "C:\\Users\\ACER\\AppData\\Local\\Temp\\ipykernel_22424\\1535830748.py:2: FutureWarning: \n",
            "\n",
            "Passing `palette` without assigning `hue` is deprecated and will be removed in v0.14.0. Assign the `x` variable to `hue` and set `legend=False` for the same effect.\n",
            "\n",
            "  sns.countplot(x='remote_ratio', data=df, palette='muted')\n"
          ]
        },
        {
          "data": {
            "image/png": "[encoded data removed]",
            "text/plain": [
              "<Figure size 640x480 with 1 Axes>"
            ]
          },
          "metadata": {},
          "output_type": "display_data"
        }
      ],
      "source": [
        "# Distribusi remote_ratio\n",
        "sns.countplot(x='remote_ratio', data=df, palette='muted')\n",
        "plt.title('Distribusi Remote Ratio')\n",
        "plt.show()"
      ]
    },
    {
      "cell_type": "code",
      "execution_count": 190,
      "metadata": {
        "colab": {
          "base_uri": "https://localhost:8080/",
          "height": 478
        },
        "id": "R-yjOIP0y2IR",
        "outputId": "b07770d0-d9d1-44c0-830a-b0ffc978ada9"
      },
      "outputs": [
        {
          "data": {
            "image/png": "[encoded data removed]",
            "text/plain": [
              "<Figure size 640x480 with 1 Axes>"
            ]
          },
          "metadata": {},
          "output_type": "display_data"
        }
      ],
      "source": [
        "# Top 10 lokasi karyawan\n",
        "top_locations = df['employee_residence'].value_counts().head(10)\n",
        "\n",
        "# Visualisasi\n",
        "top_locations.plot(kind='bar', color='purple')\n",
        "plt.title('Top 10 Lokasi Employee Residence')\n",
        "plt.xlabel('Lokasi')\n",
        "plt.ylabel('Jumlah')\n",
        "plt.show()"
      ]
    },
    {
      "cell_type": "code",
      "execution_count": 191,
      "metadata": {
        "colab": {
          "base_uri": "https://localhost:8080/",
          "height": 563
        },
        "id": "LEjarmWc23iJ",
        "outputId": "d18e7174-76d4-4058-9a44-eeee2752f69a"
      },
      "outputs": [
        {
          "name": "stderr",
          "output_type": "stream",
          "text": [
            "C:\\Users\\ACER\\AppData\\Local\\Temp\\ipykernel_22424\\2674798564.py:2: FutureWarning: \n",
            "\n",
            "Passing `palette` without assigning `hue` is deprecated and will be removed in v0.14.0. Assign the `x` variable to `hue` and set `legend=False` for the same effect.\n",
            "\n",
            "  sns.countplot(x='company_size', data=df, palette='pastel')\n"
          ]
        },
        {
          "data": {
            "image/png": "[encoded data removed]",
            "text/plain": [
              "<Figure size 640x480 with 1 Axes>"
            ]
          },
          "metadata": {},
          "output_type": "display_data"
        }
      ],
      "source": [
        "# Distribusi company_size\n",
        "sns.countplot(x='company_size', data=df, palette='pastel')\n",
        "plt.title('Distribusi Company Size')\n",
        "plt.show()"
      ]
    },
    {
      "cell_type": "code",
      "execution_count": 192,
      "metadata": {
        "colab": {
          "base_uri": "https://localhost:8080/",
          "height": 563
        },
        "id": "TGD2xPhf26Kh",
        "outputId": "f048a53b-9a1d-4775-9b24-95e9ebf388cd"
      },
      "outputs": [
        {
          "name": "stderr",
          "output_type": "stream",
          "text": [
            "C:\\Users\\ACER\\AppData\\Local\\Temp\\ipykernel_22424\\273027534.py:5: FutureWarning: \n",
            "\n",
            "Passing `palette` without assigning `hue` is deprecated and will be removed in v0.14.0. Assign the `y` variable to `hue` and set `legend=False` for the same effect.\n",
            "\n",
            "  sns.barplot(y=top_jobs.index, x=top_jobs.values, palette='viridis')\n"
          ]
        },
        {
          "data": {
            "image/png": "[encoded data removed]",
            "text/plain": [
              "<Figure size 640x480 with 1 Axes>"
            ]
          },
          "metadata": {},
          "output_type": "display_data"
        }
      ],
      "source": [
        "# Top 10 Job Titles\n",
        "top_jobs = df['job_title'].value_counts().head(10)\n",
        "\n",
        "# Visualisasi\n",
        "sns.barplot(y=top_jobs.index, x=top_jobs.values, palette='viridis')\n",
        "plt.title('Top 10 Job Titles')\n",
        "plt.xlabel('Jumlah')\n",
        "plt.ylabel('Job Title')\n",
        "plt.show()"
      ]
    },
    {
      "cell_type": "code",
      "execution_count": 193,
      "metadata": {
        "colab": {
          "base_uri": "https://localhost:8080/",
          "height": 472
        },
        "id": "9g3urc762_JB",
        "outputId": "32e19a37-2202-4af7-f21d-d66d977b2e29"
      },
      "outputs": [
        {
          "data": {
            "image/png": "[encoded data removed]",
            "text/plain": [
              "<Figure size 640x480 with 1 Axes>"
            ]
          },
          "metadata": {},
          "output_type": "display_data"
        }
      ],
      "source": [
        "# Rata-rata gaji per job_title\n",
        "avg_salary_per_job = df.groupby('job_title')['salary_in_usd'].mean().sort_values(ascending=False).head(10)\n",
        "\n",
        "# Visualisasi\n",
        "avg_salary_per_job.plot(kind='barh', color='orange')\n",
        "plt.title('Top 10 Job Titles dengan Gaji Rata-Rata Tertinggi')\n",
        "plt.xlabel('Salary (USD)')\n",
        "plt.ylabel('Job Title')\n",
        "plt.show()"
      ]
    },
    {
      "cell_type": "markdown",
      "metadata": {},
      "source": [
        "# **Model Training**"
      ]
    },
    {
      "cell_type": "code",
      "execution_count": 194,
      "metadata": {},
      "outputs": [
        {
          "data": {
            "text/html": [
              "<div>\n",
              "<style scoped>\n",
              "    .dataframe tbody tr th:only-of-type {\n",
              "        vertical-align: middle;\n",
              "    }\n",
              "\n",
              "    .dataframe tbody tr th {\n",
              "        vertical-align: top;\n",
              "    }\n",
              "\n",
              "    .dataframe thead th {\n",
              "        text-align: right;\n",
              "    }\n",
              "</style>\n",
              "<table border=\"1\" class=\"dataframe\">\n",
              "  <thead>\n",
              "    <tr style=\"text-align: right;\">\n",
              "      <th></th>\n",
              "      <th>work_year</th>\n",
              "      <th>experience_level</th>\n",
              "      <th>employment_type</th>\n",
              "      <th>job_title</th>\n",
              "      <th>salary</th>\n",
              "      <th>salary_currency</th>\n",
              "      <th>salary_in_usd</th>\n",
              "      <th>employee_residence</th>\n",
              "      <th>remote_ratio</th>\n",
              "      <th>company_location</th>\n",
              "      <th>company_size</th>\n",
              "    </tr>\n",
              "  </thead>\n",
              "  <tbody>\n",
              "    <tr>\n",
              "      <th>0</th>\n",
              "      <td>2021</td>\n",
              "      <td>MI</td>\n",
              "      <td>FT</td>\n",
              "      <td>Data Scientist</td>\n",
              "      <td>30400000</td>\n",
              "      <td>CLP</td>\n",
              "      <td>40038</td>\n",
              "      <td>CL</td>\n",
              "      <td>100</td>\n",
              "      <td>CL</td>\n",
              "      <td>L</td>\n",
              "    </tr>\n",
              "    <tr>\n",
              "      <th>1</th>\n",
              "      <td>2021</td>\n",
              "      <td>MI</td>\n",
              "      <td>FT</td>\n",
              "      <td>BI Data Analyst</td>\n",
              "      <td>11000000</td>\n",
              "      <td>HUF</td>\n",
              "      <td>36259</td>\n",
              "      <td>HU</td>\n",
              "      <td>50</td>\n",
              "      <td>US</td>\n",
              "      <td>L</td>\n",
              "    </tr>\n",
              "    <tr>\n",
              "      <th>2</th>\n",
              "      <td>2020</td>\n",
              "      <td>MI</td>\n",
              "      <td>FT</td>\n",
              "      <td>Data Scientist</td>\n",
              "      <td>11000000</td>\n",
              "      <td>HUF</td>\n",
              "      <td>35735</td>\n",
              "      <td>HU</td>\n",
              "      <td>50</td>\n",
              "      <td>HU</td>\n",
              "      <td>L</td>\n",
              "    </tr>\n",
              "    <tr>\n",
              "      <th>3</th>\n",
              "      <td>2021</td>\n",
              "      <td>MI</td>\n",
              "      <td>FT</td>\n",
              "      <td>ML Engineer</td>\n",
              "      <td>8500000</td>\n",
              "      <td>JPY</td>\n",
              "      <td>77364</td>\n",
              "      <td>JP</td>\n",
              "      <td>50</td>\n",
              "      <td>JP</td>\n",
              "      <td>S</td>\n",
              "    </tr>\n",
              "    <tr>\n",
              "      <th>4</th>\n",
              "      <td>2022</td>\n",
              "      <td>SE</td>\n",
              "      <td>FT</td>\n",
              "      <td>Lead Machine Learning Engineer</td>\n",
              "      <td>7500000</td>\n",
              "      <td>INR</td>\n",
              "      <td>95386</td>\n",
              "      <td>IN</td>\n",
              "      <td>50</td>\n",
              "      <td>IN</td>\n",
              "      <td>L</td>\n",
              "    </tr>\n",
              "  </tbody>\n",
              "</table>\n",
              "</div>"
            ],
            "text/plain": [
              "   work_year experience_level employment_type                       job_title  \\\n",
              "0       2021               MI              FT                  Data Scientist   \n",
              "1       2021               MI              FT                 BI Data Analyst   \n",
              "2       2020               MI              FT                  Data Scientist   \n",
              "3       2021               MI              FT                     ML Engineer   \n",
              "4       2022               SE              FT  Lead Machine Learning Engineer   \n",
              "\n",
              "     salary salary_currency  salary_in_usd employee_residence  remote_ratio  \\\n",
              "0  30400000             CLP          40038                 CL           100   \n",
              "1  11000000             HUF          36259                 HU            50   \n",
              "2  11000000             HUF          35735                 HU            50   \n",
              "3   8500000             JPY          77364                 JP            50   \n",
              "4   7500000             INR          95386                 IN            50   \n",
              "\n",
              "  company_location company_size  \n",
              "0               CL            L  \n",
              "1               US            L  \n",
              "2               HU            L  \n",
              "3               JP            S  \n",
              "4               IN            L  "
            ]
          },
          "execution_count": 194,
          "metadata": {},
          "output_type": "execute_result"
        }
      ],
      "source": [
        "df.head()"
      ]
    },
    {
      "cell_type": "code",
      "execution_count": 195,
      "metadata": {},
      "outputs": [
        {
          "name": "stdout",
          "output_type": "stream",
          "text": [
            "<class 'pandas.core.frame.DataFrame'>\n",
            "RangeIndex: 14838 entries, 0 to 14837\n",
            "Data columns (total 11 columns):\n",
            " #   Column              Non-Null Count  Dtype \n",
            "---  ------              --------------  ----- \n",
            " 0   work_year           14838 non-null  int64 \n",
            " 1   experience_level    14838 non-null  object\n",
            " 2   employment_type     14838 non-null  object\n",
            " 3   job_title           14838 non-null  object\n",
            " 4   salary              14838 non-null  int64 \n",
            " 5   salary_currency     14838 non-null  object\n",
            " 6   salary_in_usd       14838 non-null  int64 \n",
            " 7   employee_residence  14838 non-null  object\n",
            " 8   remote_ratio        14838 non-null  int64 \n",
            " 9   company_location    14838 non-null  object\n",
            " 10  company_size        14838 non-null  object\n",
            "dtypes: int64(4), object(7)\n",
            "memory usage: 1.2+ MB\n"
          ]
        }
      ],
      "source": [
        "df.info()"
      ]
    },
    {
      "cell_type": "code",
      "execution_count": 196,
      "metadata": {},
      "outputs": [],
      "source": [
        "X = df.drop(['salary_in_usd'], axis=1)\n",
        "\n",
        "y = df['salary_in_usd']"
      ]
    },
    {
      "cell_type": "code",
      "execution_count": 197,
      "metadata": {},
      "outputs": [
        {
          "data": {
            "text/plain": [
              "[]"
            ]
          },
          "execution_count": 197,
          "metadata": {},
          "output_type": "execute_result"
        }
      ],
      "source": [
        "categorical = [col for col in X_train.columns if X_train[col].dtypes == 'O']\n",
        "\n",
        "categorical"
      ]
    },
    {
      "cell_type": "code",
      "execution_count": 198,
      "metadata": {},
      "outputs": [
        {
          "data": {
            "text/plain": [
              "['work_year',\n",
              " 'salary',\n",
              " 'remote_ratio',\n",
              " 'experience_level_EX',\n",
              " 'experience_level_MI',\n",
              " 'experience_level_SE',\n",
              " 'employment_type_FL',\n",
              " 'employment_type_FT',\n",
              " 'employment_type_PT',\n",
              " 'job_title_AI Developer',\n",
              " 'job_title_AI Engineer',\n",
              " 'job_title_AI Product Manager',\n",
              " 'job_title_AI Programmer',\n",
              " 'job_title_AI Research Engineer',\n",
              " 'job_title_AI Research Scientist',\n",
              " 'job_title_AI Scientist',\n",
              " 'job_title_AI Software Engineer',\n",
              " 'job_title_AWS Data Architect',\n",
              " 'job_title_Admin & Data Analyst',\n",
              " 'job_title_Analytics Engineer',\n",
              " 'job_title_Analytics Engineering Manager',\n",
              " 'job_title_Applied Data Scientist',\n",
              " 'job_title_Applied Machine Learning Engineer',\n",
              " 'job_title_Applied Machine Learning Scientist',\n",
              " 'job_title_Applied Research Scientist',\n",
              " 'job_title_Applied Scientist',\n",
              " 'job_title_Autonomous Vehicle Technician',\n",
              " 'job_title_Azure Data Engineer',\n",
              " 'job_title_BI Analyst',\n",
              " 'job_title_BI Data Analyst',\n",
              " 'job_title_BI Data Engineer',\n",
              " 'job_title_BI Developer',\n",
              " 'job_title_Big Data Architect',\n",
              " 'job_title_Big Data Developer',\n",
              " 'job_title_Big Data Engineer',\n",
              " 'job_title_Business Data Analyst',\n",
              " 'job_title_Business Intelligence',\n",
              " 'job_title_Business Intelligence Analyst',\n",
              " 'job_title_Business Intelligence Data Analyst',\n",
              " 'job_title_Business Intelligence Developer',\n",
              " 'job_title_Business Intelligence Engineer',\n",
              " 'job_title_Business Intelligence Lead',\n",
              " 'job_title_Business Intelligence Manager',\n",
              " 'job_title_Business Intelligence Specialist',\n",
              " 'job_title_CRM Data Analyst',\n",
              " 'job_title_Cloud Data Architect',\n",
              " 'job_title_Cloud Data Engineer',\n",
              " 'job_title_Cloud Database Engineer',\n",
              " 'job_title_Compliance Data Analyst',\n",
              " 'job_title_Computational Biologist',\n",
              " 'job_title_Computer Vision Engineer',\n",
              " 'job_title_Computer Vision Software Engineer',\n",
              " 'job_title_Consultant Data Engineer',\n",
              " 'job_title_Data Analyst',\n",
              " 'job_title_Data Analyst Lead',\n",
              " 'job_title_Data Analytics Associate',\n",
              " 'job_title_Data Analytics Consultant',\n",
              " 'job_title_Data Analytics Engineer',\n",
              " 'job_title_Data Analytics Lead',\n",
              " 'job_title_Data Analytics Manager',\n",
              " 'job_title_Data Analytics Specialist',\n",
              " 'job_title_Data Architect',\n",
              " 'job_title_Data DevOps Engineer',\n",
              " 'job_title_Data Developer',\n",
              " 'job_title_Data Engineer',\n",
              " 'job_title_Data Infrastructure Engineer',\n",
              " 'job_title_Data Integration Developer',\n",
              " 'job_title_Data Integration Engineer',\n",
              " 'job_title_Data Integration Specialist',\n",
              " 'job_title_Data Lead',\n",
              " 'job_title_Data Management Analyst',\n",
              " 'job_title_Data Management Consultant',\n",
              " 'job_title_Data Management Specialist',\n",
              " 'job_title_Data Manager',\n",
              " 'job_title_Data Modeler',\n",
              " 'job_title_Data Modeller',\n",
              " 'job_title_Data Operations Analyst',\n",
              " 'job_title_Data Operations Associate',\n",
              " 'job_title_Data Operations Engineer',\n",
              " 'job_title_Data Operations Manager',\n",
              " 'job_title_Data Operations Specialist',\n",
              " 'job_title_Data Pipeline Engineer',\n",
              " 'job_title_Data Product Manager',\n",
              " 'job_title_Data Product Owner',\n",
              " 'job_title_Data Quality Analyst',\n",
              " 'job_title_Data Quality Engineer',\n",
              " 'job_title_Data Quality Manager',\n",
              " 'job_title_Data Reporting Analyst',\n",
              " 'job_title_Data Science',\n",
              " 'job_title_Data Science Analyst',\n",
              " 'job_title_Data Science Consultant',\n",
              " 'job_title_Data Science Director',\n",
              " 'job_title_Data Science Engineer',\n",
              " 'job_title_Data Science Lead',\n",
              " 'job_title_Data Science Manager',\n",
              " 'job_title_Data Science Practitioner',\n",
              " 'job_title_Data Science Tech Lead',\n",
              " 'job_title_Data Scientist',\n",
              " 'job_title_Data Scientist Lead',\n",
              " 'job_title_Data Specialist',\n",
              " 'job_title_Data Strategist',\n",
              " 'job_title_Data Strategy Manager',\n",
              " 'job_title_Data Visualization Analyst',\n",
              " 'job_title_Data Visualization Engineer',\n",
              " 'job_title_Data Visualization Specialist',\n",
              " 'job_title_Decision Scientist',\n",
              " 'job_title_Deep Learning Engineer',\n",
              " 'job_title_Deep Learning Researcher',\n",
              " 'job_title_Director of Data Science',\n",
              " 'job_title_ETL Developer',\n",
              " 'job_title_ETL Engineer',\n",
              " 'job_title_Encounter Data Management Professional',\n",
              " 'job_title_Finance Data Analyst',\n",
              " 'job_title_Financial Data Analyst',\n",
              " 'job_title_Head of Data',\n",
              " 'job_title_Head of Data Science',\n",
              " 'job_title_Head of Machine Learning',\n",
              " 'job_title_Insight Analyst',\n",
              " 'job_title_Lead Data Analyst',\n",
              " 'job_title_Lead Data Engineer',\n",
              " 'job_title_Lead Data Scientist',\n",
              " 'job_title_Lead Machine Learning Engineer',\n",
              " 'job_title_ML Engineer',\n",
              " 'job_title_ML Ops Engineer',\n",
              " 'job_title_MLOps Engineer',\n",
              " 'job_title_Machine Learning Developer',\n",
              " 'job_title_Machine Learning Engineer',\n",
              " 'job_title_Machine Learning Infrastructure Engineer',\n",
              " 'job_title_Machine Learning Manager',\n",
              " 'job_title_Machine Learning Modeler',\n",
              " 'job_title_Machine Learning Operations Engineer',\n",
              " 'job_title_Machine Learning Research Engineer',\n",
              " 'job_title_Machine Learning Researcher',\n",
              " 'job_title_Machine Learning Scientist',\n",
              " 'job_title_Machine Learning Software Engineer',\n",
              " 'job_title_Machine Learning Specialist',\n",
              " 'job_title_Manager Data Management',\n",
              " 'job_title_Managing Director Data Science',\n",
              " 'job_title_Marketing Data Analyst',\n",
              " 'job_title_Marketing Data Engineer',\n",
              " 'job_title_Marketing Data Scientist',\n",
              " 'job_title_NLP Engineer',\n",
              " 'job_title_Power BI Developer',\n",
              " 'job_title_Principal Data Analyst',\n",
              " 'job_title_Principal Data Architect',\n",
              " 'job_title_Principal Data Engineer',\n",
              " 'job_title_Principal Data Scientist',\n",
              " 'job_title_Principal Machine Learning Engineer',\n",
              " 'job_title_Product Data Analyst',\n",
              " 'job_title_Prompt Engineer',\n",
              " 'job_title_Quantitative Research Analyst',\n",
              " 'job_title_Research Analyst',\n",
              " 'job_title_Research Engineer',\n",
              " 'job_title_Research Scientist',\n",
              " 'job_title_Robotics Engineer',\n",
              " 'job_title_Robotics Software Engineer',\n",
              " 'job_title_Sales Data Analyst',\n",
              " 'job_title_Software Data Engineer',\n",
              " 'job_title_Staff Data Analyst',\n",
              " 'job_title_Staff Data Scientist',\n",
              " 'job_title_Staff Machine Learning Engineer',\n",
              " 'salary_currency_BRL',\n",
              " 'salary_currency_CAD',\n",
              " 'salary_currency_CHF',\n",
              " 'salary_currency_CLP',\n",
              " 'salary_currency_DKK',\n",
              " 'salary_currency_EUR',\n",
              " 'salary_currency_GBP',\n",
              " 'salary_currency_HKD',\n",
              " 'salary_currency_HUF',\n",
              " 'salary_currency_ILS',\n",
              " 'salary_currency_INR',\n",
              " 'salary_currency_JPY',\n",
              " 'salary_currency_MXN',\n",
              " 'salary_currency_NOK',\n",
              " 'salary_currency_NZD',\n",
              " 'salary_currency_PHP',\n",
              " 'salary_currency_PLN',\n",
              " 'salary_currency_SGD',\n",
              " 'salary_currency_THB',\n",
              " 'salary_currency_TRY',\n",
              " 'salary_currency_USD',\n",
              " 'salary_currency_ZAR',\n",
              " 'employee_residence_AE',\n",
              " 'employee_residence_AM',\n",
              " 'employee_residence_AR',\n",
              " 'employee_residence_AS',\n",
              " 'employee_residence_AT',\n",
              " 'employee_residence_AU',\n",
              " 'employee_residence_BA',\n",
              " 'employee_residence_BE',\n",
              " 'employee_residence_BG',\n",
              " 'employee_residence_BO',\n",
              " 'employee_residence_BR',\n",
              " 'employee_residence_CA',\n",
              " 'employee_residence_CF',\n",
              " 'employee_residence_CH',\n",
              " 'employee_residence_CL',\n",
              " 'employee_residence_CN',\n",
              " 'employee_residence_CO',\n",
              " 'employee_residence_CR',\n",
              " 'employee_residence_CY',\n",
              " 'employee_residence_CZ',\n",
              " 'employee_residence_DE',\n",
              " 'employee_residence_DK',\n",
              " 'employee_residence_DO',\n",
              " 'employee_residence_DZ',\n",
              " 'employee_residence_EC',\n",
              " 'employee_residence_EE',\n",
              " 'employee_residence_EG',\n",
              " 'employee_residence_ES',\n",
              " 'employee_residence_FI',\n",
              " 'employee_residence_FR',\n",
              " 'employee_residence_GB',\n",
              " 'employee_residence_GE',\n",
              " 'employee_residence_GH',\n",
              " 'employee_residence_GR',\n",
              " 'employee_residence_HK',\n",
              " 'employee_residence_HN',\n",
              " 'employee_residence_HR',\n",
              " 'employee_residence_HU',\n",
              " 'employee_residence_ID',\n",
              " 'employee_residence_IE',\n",
              " 'employee_residence_IL',\n",
              " 'employee_residence_IN',\n",
              " 'employee_residence_IQ',\n",
              " 'employee_residence_IR',\n",
              " 'employee_residence_IT',\n",
              " 'employee_residence_JE',\n",
              " 'employee_residence_JP',\n",
              " 'employee_residence_KE',\n",
              " 'employee_residence_KR',\n",
              " 'employee_residence_KW',\n",
              " 'employee_residence_LB',\n",
              " 'employee_residence_LT',\n",
              " 'employee_residence_LU',\n",
              " 'employee_residence_LV',\n",
              " 'employee_residence_MD',\n",
              " 'employee_residence_MT',\n",
              " 'employee_residence_MU',\n",
              " 'employee_residence_MX',\n",
              " 'employee_residence_MY',\n",
              " 'employee_residence_NG',\n",
              " 'employee_residence_NL',\n",
              " 'employee_residence_NO',\n",
              " 'employee_residence_NZ',\n",
              " 'employee_residence_OM',\n",
              " 'employee_residence_PE',\n",
              " 'employee_residence_PH',\n",
              " 'employee_residence_PK',\n",
              " 'employee_residence_PL',\n",
              " 'employee_residence_PR',\n",
              " 'employee_residence_PT',\n",
              " 'employee_residence_QA',\n",
              " 'employee_residence_RO',\n",
              " 'employee_residence_RS',\n",
              " 'employee_residence_RU',\n",
              " 'employee_residence_SA',\n",
              " 'employee_residence_SE',\n",
              " 'employee_residence_SG',\n",
              " 'employee_residence_SI',\n",
              " 'employee_residence_TH',\n",
              " 'employee_residence_TN',\n",
              " 'employee_residence_TR',\n",
              " 'employee_residence_UA',\n",
              " 'employee_residence_UG',\n",
              " 'employee_residence_US',\n",
              " 'employee_residence_UZ',\n",
              " 'employee_residence_VN',\n",
              " 'employee_residence_ZA',\n",
              " 'company_location_AE',\n",
              " 'company_location_AM',\n",
              " 'company_location_AR',\n",
              " 'company_location_AS',\n",
              " 'company_location_AT',\n",
              " 'company_location_AU',\n",
              " 'company_location_BA',\n",
              " 'company_location_BE',\n",
              " 'company_location_BR',\n",
              " 'company_location_BS',\n",
              " 'company_location_CA',\n",
              " 'company_location_CF',\n",
              " 'company_location_CH',\n",
              " 'company_location_CL',\n",
              " 'company_location_CN',\n",
              " 'company_location_CO',\n",
              " 'company_location_CZ',\n",
              " 'company_location_DE',\n",
              " 'company_location_DK',\n",
              " 'company_location_DZ',\n",
              " 'company_location_EC',\n",
              " 'company_location_EE',\n",
              " 'company_location_EG',\n",
              " 'company_location_ES',\n",
              " 'company_location_FI',\n",
              " 'company_location_FR',\n",
              " 'company_location_GB',\n",
              " 'company_location_GH',\n",
              " 'company_location_GI',\n",
              " 'company_location_GR',\n",
              " 'company_location_HK',\n",
              " 'company_location_HN',\n",
              " 'company_location_HR',\n",
              " 'company_location_HU',\n",
              " 'company_location_ID',\n",
              " 'company_location_IE',\n",
              " 'company_location_IL',\n",
              " 'company_location_IN',\n",
              " 'company_location_IQ',\n",
              " 'company_location_IR',\n",
              " 'company_location_IT',\n",
              " 'company_location_JP',\n",
              " 'company_location_KE',\n",
              " 'company_location_KR',\n",
              " 'company_location_LB',\n",
              " 'company_location_LT',\n",
              " 'company_location_LU',\n",
              " 'company_location_LV',\n",
              " 'company_location_MD',\n",
              " 'company_location_MT',\n",
              " 'company_location_MU',\n",
              " 'company_location_MX',\n",
              " 'company_location_MY',\n",
              " 'company_location_NG',\n",
              " 'company_location_NL',\n",
              " 'company_location_NO',\n",
              " 'company_location_NZ',\n",
              " 'company_location_OM',\n",
              " 'company_location_PH',\n",
              " 'company_location_PK',\n",
              " 'company_location_PL',\n",
              " 'company_location_PR',\n",
              " 'company_location_PT',\n",
              " 'company_location_QA',\n",
              " 'company_location_RO',\n",
              " 'company_location_RU',\n",
              " 'company_location_SA',\n",
              " 'company_location_SE',\n",
              " 'company_location_SG',\n",
              " 'company_location_SI',\n",
              " 'company_location_TH',\n",
              " 'company_location_TR',\n",
              " 'company_location_UA',\n",
              " 'company_location_US',\n",
              " 'company_location_VN',\n",
              " 'company_location_ZA',\n",
              " 'company_size_M',\n",
              " 'company_size_S']"
            ]
          },
          "execution_count": 198,
          "metadata": {},
          "output_type": "execute_result"
        }
      ],
      "source": [
        "numerical = [col for col in X_train.columns if X_train[col].dtypes != 'O']\n",
        "\n",
        "numerical"
      ]
    },
    {
      "cell_type": "code",
      "execution_count": 199,
      "metadata": {},
      "outputs": [
        {
          "data": {
            "text/html": [
              "<div>\n",
              "<style scoped>\n",
              "    .dataframe tbody tr th:only-of-type {\n",
              "        vertical-align: middle;\n",
              "    }\n",
              "\n",
              "    .dataframe tbody tr th {\n",
              "        vertical-align: top;\n",
              "    }\n",
              "\n",
              "    .dataframe thead th {\n",
              "        text-align: right;\n",
              "    }\n",
              "</style>\n",
              "<table border=\"1\" class=\"dataframe\">\n",
              "  <thead>\n",
              "    <tr style=\"text-align: right;\">\n",
              "      <th></th>\n",
              "    </tr>\n",
              "  </thead>\n",
              "  <tbody>\n",
              "    <tr>\n",
              "      <th>36</th>\n",
              "    </tr>\n",
              "    <tr>\n",
              "      <th>9482</th>\n",
              "    </tr>\n",
              "    <tr>\n",
              "      <th>5716</th>\n",
              "    </tr>\n",
              "    <tr>\n",
              "      <th>10392</th>\n",
              "    </tr>\n",
              "    <tr>\n",
              "      <th>11845</th>\n",
              "    </tr>\n",
              "  </tbody>\n",
              "</table>\n",
              "</div>"
            ],
            "text/plain": [
              "Empty DataFrame\n",
              "Columns: []\n",
              "Index: [36, 9482, 5716, 10392, 11845]"
            ]
          },
          "execution_count": 199,
          "metadata": {},
          "output_type": "execute_result"
        }
      ],
      "source": [
        "X_train[categorical].head()"
      ]
    },
    {
      "cell_type": "code",
      "execution_count": 200,
      "metadata": {},
      "outputs": [],
      "source": [
        "from sklearn.preprocessing import OneHotEncoder, StandardScaler\n",
        "categorical_cols = [\"experience_level\", \"employment_type\", \"job_title\", \n",
        "                    \"salary_currency\", \"employee_residence\", \n",
        "                    \"company_location\", \"company_size\"]\n",
        "\n",
        "encoder = OneHotEncoder(sparse_output=False, drop=\"first\")  # One-hot encode\n",
        "X_encoded = encoder.fit_transform(X[categorical_cols])\n",
        "\n",
        "# Convert encoded features into a DataFrame\n",
        "encoded_feature_names = encoder.get_feature_names_out(categorical_cols)\n",
        "X_encoded_df = pd.DataFrame(X_encoded, columns=encoded_feature_names)\n",
        "\n",
        "# Drop original categorical columns and concatenate the encoded features\n",
        "X = X.drop(columns=categorical_cols)\n",
        "X = pd.concat([X.reset_index(drop=True), X_encoded_df.reset_index(drop=True)], axis=1)\n"
      ]
    },
    {
      "cell_type": "code",
      "execution_count": 201,
      "metadata": {},
      "outputs": [],
      "source": [
        "import pickle\n",
        "with open(\"encoder.pkl\", \"wb\") as file:\n",
        "    pickle.dump(encoder, file)"
      ]
    },
    {
      "cell_type": "code",
      "execution_count": 202,
      "metadata": {},
      "outputs": [
        {
          "data": {
            "text/html": [
              "<div>\n",
              "<style scoped>\n",
              "    .dataframe tbody tr th:only-of-type {\n",
              "        vertical-align: middle;\n",
              "    }\n",
              "\n",
              "    .dataframe tbody tr th {\n",
              "        vertical-align: top;\n",
              "    }\n",
              "\n",
              "    .dataframe thead th {\n",
              "        text-align: right;\n",
              "    }\n",
              "</style>\n",
              "<table border=\"1\" class=\"dataframe\">\n",
              "  <thead>\n",
              "    <tr style=\"text-align: right;\">\n",
              "      <th></th>\n",
              "      <th>work_year</th>\n",
              "      <th>salary</th>\n",
              "      <th>remote_ratio</th>\n",
              "      <th>experience_level_EX</th>\n",
              "      <th>experience_level_MI</th>\n",
              "      <th>experience_level_SE</th>\n",
              "      <th>employment_type_FL</th>\n",
              "      <th>employment_type_FT</th>\n",
              "      <th>employment_type_PT</th>\n",
              "      <th>job_title_AI Developer</th>\n",
              "      <th>...</th>\n",
              "      <th>company_location_SG</th>\n",
              "      <th>company_location_SI</th>\n",
              "      <th>company_location_TH</th>\n",
              "      <th>company_location_TR</th>\n",
              "      <th>company_location_UA</th>\n",
              "      <th>company_location_US</th>\n",
              "      <th>company_location_VN</th>\n",
              "      <th>company_location_ZA</th>\n",
              "      <th>company_size_M</th>\n",
              "      <th>company_size_S</th>\n",
              "    </tr>\n",
              "  </thead>\n",
              "  <tbody>\n",
              "    <tr>\n",
              "      <th>36</th>\n",
              "      <td>-3.052193</td>\n",
              "      <td>5.431920</td>\n",
              "      <td>1.446425</td>\n",
              "      <td>0.0</td>\n",
              "      <td>0.0</td>\n",
              "      <td>0.0</td>\n",
              "      <td>0.0</td>\n",
              "      <td>1.0</td>\n",
              "      <td>0.0</td>\n",
              "      <td>0.0</td>\n",
              "      <td>...</td>\n",
              "      <td>0.0</td>\n",
              "      <td>0.0</td>\n",
              "      <td>0.0</td>\n",
              "      <td>0.0</td>\n",
              "      <td>0.0</td>\n",
              "      <td>0.0</td>\n",
              "      <td>0.0</td>\n",
              "      <td>0.0</td>\n",
              "      <td>1.0</td>\n",
              "      <td>0.0</td>\n",
              "    </tr>\n",
              "    <tr>\n",
              "      <th>9482</th>\n",
              "      <td>-0.198209</td>\n",
              "      <td>-0.120775</td>\n",
              "      <td>-0.704728</td>\n",
              "      <td>0.0</td>\n",
              "      <td>0.0</td>\n",
              "      <td>1.0</td>\n",
              "      <td>0.0</td>\n",
              "      <td>1.0</td>\n",
              "      <td>0.0</td>\n",
              "      <td>0.0</td>\n",
              "      <td>...</td>\n",
              "      <td>0.0</td>\n",
              "      <td>0.0</td>\n",
              "      <td>0.0</td>\n",
              "      <td>0.0</td>\n",
              "      <td>0.0</td>\n",
              "      <td>1.0</td>\n",
              "      <td>0.0</td>\n",
              "      <td>0.0</td>\n",
              "      <td>1.0</td>\n",
              "      <td>0.0</td>\n",
              "    </tr>\n",
              "    <tr>\n",
              "      <th>5716</th>\n",
              "      <td>1.228782</td>\n",
              "      <td>-0.014100</td>\n",
              "      <td>-0.704728</td>\n",
              "      <td>1.0</td>\n",
              "      <td>0.0</td>\n",
              "      <td>0.0</td>\n",
              "      <td>0.0</td>\n",
              "      <td>1.0</td>\n",
              "      <td>0.0</td>\n",
              "      <td>0.0</td>\n",
              "      <td>...</td>\n",
              "      <td>0.0</td>\n",
              "      <td>0.0</td>\n",
              "      <td>0.0</td>\n",
              "      <td>0.0</td>\n",
              "      <td>0.0</td>\n",
              "      <td>1.0</td>\n",
              "      <td>0.0</td>\n",
              "      <td>0.0</td>\n",
              "      <td>1.0</td>\n",
              "      <td>0.0</td>\n",
              "    </tr>\n",
              "    <tr>\n",
              "      <th>10392</th>\n",
              "      <td>-1.625201</td>\n",
              "      <td>-0.152777</td>\n",
              "      <td>-0.704728</td>\n",
              "      <td>0.0</td>\n",
              "      <td>0.0</td>\n",
              "      <td>1.0</td>\n",
              "      <td>0.0</td>\n",
              "      <td>1.0</td>\n",
              "      <td>0.0</td>\n",
              "      <td>0.0</td>\n",
              "      <td>...</td>\n",
              "      <td>0.0</td>\n",
              "      <td>0.0</td>\n",
              "      <td>0.0</td>\n",
              "      <td>0.0</td>\n",
              "      <td>0.0</td>\n",
              "      <td>1.0</td>\n",
              "      <td>0.0</td>\n",
              "      <td>0.0</td>\n",
              "      <td>1.0</td>\n",
              "      <td>0.0</td>\n",
              "    </tr>\n",
              "    <tr>\n",
              "      <th>11845</th>\n",
              "      <td>1.228782</td>\n",
              "      <td>-0.199938</td>\n",
              "      <td>-0.704728</td>\n",
              "      <td>0.0</td>\n",
              "      <td>0.0</td>\n",
              "      <td>1.0</td>\n",
              "      <td>0.0</td>\n",
              "      <td>1.0</td>\n",
              "      <td>0.0</td>\n",
              "      <td>0.0</td>\n",
              "      <td>...</td>\n",
              "      <td>0.0</td>\n",
              "      <td>0.0</td>\n",
              "      <td>0.0</td>\n",
              "      <td>0.0</td>\n",
              "      <td>0.0</td>\n",
              "      <td>1.0</td>\n",
              "      <td>0.0</td>\n",
              "      <td>0.0</td>\n",
              "      <td>1.0</td>\n",
              "      <td>0.0</td>\n",
              "    </tr>\n",
              "  </tbody>\n",
              "</table>\n",
              "<p>5 rows × 348 columns</p>\n",
              "</div>"
            ],
            "text/plain": [
              "       work_year    salary  remote_ratio  experience_level_EX  \\\n",
              "36     -3.052193  5.431920      1.446425                  0.0   \n",
              "9482   -0.198209 -0.120775     -0.704728                  0.0   \n",
              "5716    1.228782 -0.014100     -0.704728                  1.0   \n",
              "10392  -1.625201 -0.152777     -0.704728                  0.0   \n",
              "11845   1.228782 -0.199938     -0.704728                  0.0   \n",
              "\n",
              "       experience_level_MI  experience_level_SE  employment_type_FL  \\\n",
              "36                     0.0                  0.0                 0.0   \n",
              "9482                   0.0                  1.0                 0.0   \n",
              "5716                   0.0                  0.0                 0.0   \n",
              "10392                  0.0                  1.0                 0.0   \n",
              "11845                  0.0                  1.0                 0.0   \n",
              "\n",
              "       employment_type_FT  employment_type_PT  job_title_AI Developer  ...  \\\n",
              "36                    1.0                 0.0                     0.0  ...   \n",
              "9482                  1.0                 0.0                     0.0  ...   \n",
              "5716                  1.0                 0.0                     0.0  ...   \n",
              "10392                 1.0                 0.0                     0.0  ...   \n",
              "11845                 1.0                 0.0                     0.0  ...   \n",
              "\n",
              "       company_location_SG  company_location_SI  company_location_TH  \\\n",
              "36                     0.0                  0.0                  0.0   \n",
              "9482                   0.0                  0.0                  0.0   \n",
              "5716                   0.0                  0.0                  0.0   \n",
              "10392                  0.0                  0.0                  0.0   \n",
              "11845                  0.0                  0.0                  0.0   \n",
              "\n",
              "       company_location_TR  company_location_UA  company_location_US  \\\n",
              "36                     0.0                  0.0                  0.0   \n",
              "9482                   0.0                  0.0                  1.0   \n",
              "5716                   0.0                  0.0                  1.0   \n",
              "10392                  0.0                  0.0                  1.0   \n",
              "11845                  0.0                  0.0                  1.0   \n",
              "\n",
              "       company_location_VN  company_location_ZA  company_size_M  \\\n",
              "36                     0.0                  0.0             1.0   \n",
              "9482                   0.0                  0.0             1.0   \n",
              "5716                   0.0                  0.0             1.0   \n",
              "10392                  0.0                  0.0             1.0   \n",
              "11845                  0.0                  0.0             1.0   \n",
              "\n",
              "       company_size_S  \n",
              "36                0.0  \n",
              "9482              0.0  \n",
              "5716              0.0  \n",
              "10392             0.0  \n",
              "11845             0.0  \n",
              "\n",
              "[5 rows x 348 columns]"
            ]
          },
          "execution_count": 202,
          "metadata": {},
          "output_type": "execute_result"
        }
      ],
      "source": [
        "X_train.head()"
      ]
    },
    {
      "cell_type": "code",
      "execution_count": 203,
      "metadata": {},
      "outputs": [],
      "source": [
        "numerical_cols = [\"work_year\", \"salary\", \"remote_ratio\"]  # Numerical columns\n",
        "\n",
        "scaler = StandardScaler()\n",
        "X[numerical_cols] = scaler.fit_transform(X[numerical_cols])"
      ]
    },
    {
      "cell_type": "code",
      "execution_count": 204,
      "metadata": {},
      "outputs": [],
      "source": [
        "with open(\"scaler.pkl\", \"wb\") as file:\n",
        "    pickle.dump(scaler, file)"
      ]
    },
    {
      "cell_type": "code",
      "execution_count": 205,
      "metadata": {},
      "outputs": [
        {
          "data": {
            "text/plain": [
              "((11870, 348), (2968, 348))"
            ]
          },
          "execution_count": 205,
          "metadata": {},
          "output_type": "execute_result"
        }
      ],
      "source": [
        "from sklearn.model_selection import train_test_split\n",
        "\n",
        "X_train, X_test, y_train, y_test = train_test_split(X, y, test_size = 0.2, random_state = 42)\n",
        "\n",
        "X_train.shape, X_test.shape"
      ]
    },
    {
      "cell_type": "code",
      "execution_count": 206,
      "metadata": {},
      "outputs": [
        {
          "name": "stdout",
          "output_type": "stream",
          "text": [
            "Train Score: 0.9967986568190756\n",
            "Test Score: 0.9818186989424524\n"
          ]
        }
      ],
      "source": [
        "from sklearn.ensemble import RandomForestRegressor\n",
        "\n",
        "model = RandomForestRegressor(random_state=42)\n",
        "model.fit(X_train, y_train)\n",
        "\n",
        "# Evaluate the model\n",
        "print(\"Train Score:\", model.score(X_train, y_train))\n",
        "print(\"Test Score:\", model.score(X_test, y_test))"
      ]
    },
    {
      "cell_type": "code",
      "execution_count": 207,
      "metadata": {},
      "outputs": [
        {
          "data": {
            "text/plain": [
              "array([ 75056.88,  75000.  ,  65000.  , ..., 159000.  , 140000.  ,\n",
              "       127513.  ])"
            ]
          },
          "execution_count": 207,
          "metadata": {},
          "output_type": "execute_result"
        }
      ],
      "source": [
        "y_pred = model.predict(X_test)\n",
        "\n",
        "y_pred"
      ]
    },
    {
      "cell_type": "code",
      "execution_count": 208,
      "metadata": {
        "id": "jDRwtlaD4-CI"
      },
      "outputs": [],
      "source": [
        "import pickle\n",
        "pickle.dump(model,open('rfg.pkl','wb'))"
      ]
    },
    {
      "cell_type": "code",
      "execution_count": 209,
      "metadata": {},
      "outputs": [
        {
          "name": "stdout",
          "output_type": "stream",
          "text": [
            "Model trained? False\n"
          ]
        }
      ],
      "source": [
        "print(\"Model trained?\", hasattr(model, \"classes_\"))"
      ]
    }
  ],
  "metadata": {
    "colab": {
      "provenance": []
    },
    "kernelspec": {
      "display_name": "Python 3",
      "name": "python3"
    },
    "language_info": {
      "codemirror_mode": {
        "name": "ipython",
        "version": 3
      },
      "file_extension": ".py",
      "mimetype": "text/x-python",
      "name": "python",
      "nbconvert_exporter": "python",
      "pygments_lexer": "ipython3",
      "version": "3.11.4"
    }
  },
  "nbformat": 4,
  "nbformat_minor": 0
}
